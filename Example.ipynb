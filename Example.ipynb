{
 "cells": [
  {
   "cell_type": "markdown",
   "metadata": {},
   "source": [
    "# Corpus creation"
   ]
  },
  {
   "cell_type": "markdown",
   "metadata": {},
   "source": [
    "First we import a corpus from the library *nltk*, and we transform it to a DataFrame which is the format we would normally get. We pick 4 categories for simplicity.  "
   ]
  },
  {
   "cell_type": "code",
   "execution_count": 33,
   "metadata": {},
   "outputs": [
    {
     "data": {
      "text/html": [
       "<div>\n",
       "<style scoped>\n",
       "    .dataframe tbody tr th:only-of-type {\n",
       "        vertical-align: middle;\n",
       "    }\n",
       "\n",
       "    .dataframe tbody tr th {\n",
       "        vertical-align: top;\n",
       "    }\n",
       "\n",
       "    .dataframe thead th {\n",
       "        text-align: right;\n",
       "    }\n",
       "</style>\n",
       "<table border=\"1\" class=\"dataframe\">\n",
       "  <thead>\n",
       "    <tr style=\"text-align: right;\">\n",
       "      <th></th>\n",
       "      <th>class</th>\n",
       "      <th>text</th>\n",
       "    </tr>\n",
       "  </thead>\n",
       "  <tbody>\n",
       "    <tr>\n",
       "      <th>0</th>\n",
       "      <td>adventure</td>\n",
       "      <td>Dan Morgan told himself he would forget Ann Tu...</td>\n",
       "    </tr>\n",
       "    <tr>\n",
       "      <th>1</th>\n",
       "      <td>adventure</td>\n",
       "      <td>Gavin paused wearily. ``You can't stay here wi...</td>\n",
       "    </tr>\n",
       "    <tr>\n",
       "      <th>2</th>\n",
       "      <td>adventure</td>\n",
       "      <td>The sentry was not dead. He was, in fact, show...</td>\n",
       "    </tr>\n",
       "    <tr>\n",
       "      <th>3</th>\n",
       "      <td>adventure</td>\n",
       "      <td>``So it wasn't the earthquake that made him re...</td>\n",
       "    </tr>\n",
       "    <tr>\n",
       "      <th>4</th>\n",
       "      <td>adventure</td>\n",
       "      <td>She was carrying a quirt, and she started to r...</td>\n",
       "    </tr>\n",
       "  </tbody>\n",
       "</table>\n",
       "</div>"
      ],
      "text/plain": [
       "       class                                               text\n",
       "0  adventure  Dan Morgan told himself he would forget Ann Tu...\n",
       "1  adventure  Gavin paused wearily. ``You can't stay here wi...\n",
       "2  adventure  The sentry was not dead. He was, in fact, show...\n",
       "3  adventure  ``So it wasn't the earthquake that made him re...\n",
       "4  adventure  She was carrying a quirt, and she started to r..."
      ]
     },
     "execution_count": 33,
     "metadata": {},
     "output_type": "execute_result"
    }
   ],
   "source": [
    "import nltk\n",
    "import pandas as pd\n",
    "from nltk.corpus import brown\n",
    "from nltk.tokenize.moses import MosesDetokenizer\n",
    "\n",
    "# Categorías\n",
    "categorias = ['adventure','editorial','fiction','news']\n",
    "\n",
    "y = []\n",
    "corpus = []\n",
    "for category in categorias:\n",
    "    for fileid in brown.fileids(category):\n",
    "        text = brown.words(fileid)\n",
    "        text = MosesDetokenizer().detokenize(text,return_str=True)\n",
    "        corpus.append(text)\n",
    "        y.append(category)\n",
    "        \n",
    "corpus = pd.DataFrame({'class':y, 'text':corpus})\n",
    "corpus.head()"
   ]
  },
  {
   "cell_type": "markdown",
   "metadata": {},
   "source": [
    "# Corpus processing"
   ]
  },
  {
   "cell_type": "code",
   "execution_count": 46,
   "metadata": {},
   "outputs": [
    {
     "name": "stderr",
     "output_type": "stream",
     "text": [
      "C:\\Users\\jaime.oliver\\github\\Auto-text-mining\\text_processing.py:50: SettingWithCopyWarning: \n",
      "A value is trying to be set on a copy of a slice from a DataFrame.\n",
      "Try using .loc[row_indexer,col_indexer] = value instead\n",
      "\n",
      "See the caveats in the documentation: http://pandas.pydata.org/pandas-docs/stable/indexing.html#indexing-view-versus-copy\n",
      "  self.corpus[text] = self.corpus[text].map(string_pre_processing)\n"
     ]
    },
    {
     "data": {
      "text/html": [
       "<div>\n",
       "<style scoped>\n",
       "    .dataframe tbody tr th:only-of-type {\n",
       "        vertical-align: middle;\n",
       "    }\n",
       "\n",
       "    .dataframe tbody tr th {\n",
       "        vertical-align: top;\n",
       "    }\n",
       "\n",
       "    .dataframe thead th {\n",
       "        text-align: right;\n",
       "    }\n",
       "</style>\n",
       "<table border=\"1\" class=\"dataframe\">\n",
       "  <thead>\n",
       "    <tr style=\"text-align: right;\">\n",
       "      <th></th>\n",
       "      <th>text</th>\n",
       "    </tr>\n",
       "  </thead>\n",
       "  <tbody>\n",
       "    <tr>\n",
       "      <th>0</th>\n",
       "      <td>None</td>\n",
       "    </tr>\n",
       "    <tr>\n",
       "      <th>1</th>\n",
       "      <td>None</td>\n",
       "    </tr>\n",
       "    <tr>\n",
       "      <th>2</th>\n",
       "      <td>None</td>\n",
       "    </tr>\n",
       "    <tr>\n",
       "      <th>3</th>\n",
       "      <td>None</td>\n",
       "    </tr>\n",
       "    <tr>\n",
       "      <th>4</th>\n",
       "      <td>None</td>\n",
       "    </tr>\n",
       "  </tbody>\n",
       "</table>\n",
       "</div>"
      ],
      "text/plain": [
       "   text\n",
       "0  None\n",
       "1  None\n",
       "2  None\n",
       "3  None\n",
       "4  None"
      ]
     },
     "execution_count": 46,
     "metadata": {},
     "output_type": "execute_result"
    }
   ],
   "source": [
    "from text_processing import text_processor\n",
    "\n",
    "ATM = text_processor(df = corpus, topic = 'class', text = 'text')\n",
    "ATM.corpus.head()"
   ]
  },
  {
   "cell_type": "code",
   "execution_count": 36,
   "metadata": {},
   "outputs": [
    {
     "name": "stderr",
     "output_type": "stream",
     "text": [
      "C:\\Users\\jaime.oliver\\AppData\\Local\\Continuum\\Anaconda3\\lib\\site-packages\\ipykernel_launcher.py:74: SettingWithCopyWarning: \n",
      "A value is trying to be set on a copy of a slice from a DataFrame.\n",
      "Try using .loc[row_indexer,col_indexer] = value instead\n",
      "\n",
      "See the caveats in the documentation: http://pandas.pydata.org/pandas-docs/stable/indexing.html#indexing-view-versus-copy\n"
     ]
    },
    {
     "data": {
      "text/html": [
       "<div>\n",
       "<style scoped>\n",
       "    .dataframe tbody tr th:only-of-type {\n",
       "        vertical-align: middle;\n",
       "    }\n",
       "\n",
       "    .dataframe tbody tr th {\n",
       "        vertical-align: top;\n",
       "    }\n",
       "\n",
       "    .dataframe thead th {\n",
       "        text-align: right;\n",
       "    }\n",
       "</style>\n",
       "<table border=\"1\" class=\"dataframe\">\n",
       "  <thead>\n",
       "    <tr style=\"text-align: right;\">\n",
       "      <th></th>\n",
       "      <th>text</th>\n",
       "    </tr>\n",
       "  </thead>\n",
       "  <tbody>\n",
       "    <tr>\n",
       "      <th>0</th>\n",
       "      <td>dan morgan told would forget ann turner well r...</td>\n",
       "    </tr>\n",
       "    <tr>\n",
       "      <th>1</th>\n",
       "      <td>gavin paused wearily ca nt stay late said dawn...</td>\n",
       "    </tr>\n",
       "    <tr>\n",
       "      <th>2</th>\n",
       "      <td>sentry dead fact showing signs reviving carryi...</td>\n",
       "    </tr>\n",
       "    <tr>\n",
       "      <th>3</th>\n",
       "      <td>nt earthquake made return village dammit nt wa...</td>\n",
       "    </tr>\n",
       "    <tr>\n",
       "      <th>4</th>\n",
       "      <td>carrying quirt started raise let fall dangle w...</td>\n",
       "    </tr>\n",
       "  </tbody>\n",
       "</table>\n",
       "</div>"
      ],
      "text/plain": [
       "                                                text\n",
       "0  dan morgan told would forget ann turner well r...\n",
       "1  gavin paused wearily ca nt stay late said dawn...\n",
       "2  sentry dead fact showing signs reviving carryi...\n",
       "3  nt earthquake made return village dammit nt wa...\n",
       "4  carrying quirt started raise let fall dangle w..."
      ]
     },
     "execution_count": 36,
     "metadata": {},
     "output_type": "execute_result"
    }
   ],
   "source": [
    "ATM.stop_words()\n",
    "ATM.corpus.head()"
   ]
  },
  {
   "cell_type": "code",
   "execution_count": 37,
   "metadata": {},
   "outputs": [
    {
     "name": "stderr",
     "output_type": "stream",
     "text": [
      "C:\\Users\\jaime.oliver\\AppData\\Local\\Continuum\\Anaconda3\\lib\\site-packages\\ipykernel_launcher.py:95: SettingWithCopyWarning: \n",
      "A value is trying to be set on a copy of a slice from a DataFrame.\n",
      "Try using .loc[row_indexer,col_indexer] = value instead\n",
      "\n",
      "See the caveats in the documentation: http://pandas.pydata.org/pandas-docs/stable/indexing.html#indexing-view-versus-copy\n"
     ]
    },
    {
     "data": {
      "text/html": [
       "<div>\n",
       "<style scoped>\n",
       "    .dataframe tbody tr th:only-of-type {\n",
       "        vertical-align: middle;\n",
       "    }\n",
       "\n",
       "    .dataframe tbody tr th {\n",
       "        vertical-align: top;\n",
       "    }\n",
       "\n",
       "    .dataframe thead th {\n",
       "        text-align: right;\n",
       "    }\n",
       "</style>\n",
       "<table border=\"1\" class=\"dataframe\">\n",
       "  <thead>\n",
       "    <tr style=\"text-align: right;\">\n",
       "      <th></th>\n",
       "      <th>text</th>\n",
       "    </tr>\n",
       "  </thead>\n",
       "  <tbody>\n",
       "    <tr>\n",
       "      <th>0</th>\n",
       "      <td>dan morgan told would forget ann turner well r...</td>\n",
       "    </tr>\n",
       "    <tr>\n",
       "      <th>1</th>\n",
       "      <td>gavin paus wearili ca nt stay late said dawn c...</td>\n",
       "    </tr>\n",
       "    <tr>\n",
       "      <th>2</th>\n",
       "      <td>sentri dead fact show sign reviv carri enfield...</td>\n",
       "    </tr>\n",
       "    <tr>\n",
       "      <th>3</th>\n",
       "      <td>nt earthquak made return villag dammit nt want...</td>\n",
       "    </tr>\n",
       "    <tr>\n",
       "      <th>4</th>\n",
       "      <td>carri quirt start rais let fall dangl wrist sa...</td>\n",
       "    </tr>\n",
       "  </tbody>\n",
       "</table>\n",
       "</div>"
      ],
      "text/plain": [
       "                                                text\n",
       "0  dan morgan told would forget ann turner well r...\n",
       "1  gavin paus wearili ca nt stay late said dawn c...\n",
       "2  sentri dead fact show sign reviv carri enfield...\n",
       "3  nt earthquak made return villag dammit nt want...\n",
       "4  carri quirt start rais let fall dangl wrist sa..."
      ]
     },
     "execution_count": 37,
     "metadata": {},
     "output_type": "execute_result"
    }
   ],
   "source": [
    "ATM.steemer()\n",
    "ATM.corpus.head()"
   ]
  },
  {
   "cell_type": "code",
   "execution_count": 38,
   "metadata": {},
   "outputs": [
    {
     "data": {
      "text/plain": [
       "<129x14227 sparse matrix of type '<class 'numpy.float64'>'\n",
       "\twith 75443 stored elements in Compressed Sparse Row format>"
      ]
     },
     "execution_count": 38,
     "metadata": {},
     "output_type": "execute_result"
    }
   ],
   "source": [
    "ATM.corpus_to_bag_of_words()\n",
    "ATM.bow_corpus"
   ]
  },
  {
   "cell_type": "code",
   "execution_count": 39,
   "metadata": {},
   "outputs": [
    {
     "data": {
      "image/png": "[encoded data removed]",
      "text/plain": [
       "<matplotlib.figure.Figure at 0x269f1793a20>"
      ]
     },
     "metadata": {},
     "output_type": "display_data"
    },
    {
     "data": {
      "image/png": "[encoded data removed]",
      "text/plain": [
       "<matplotlib.figure.Figure at 0x269820fa860>"
      ]
     },
     "metadata": {},
     "output_type": "display_data"
    },
    {
     "data": {
      "image/png": "[encoded data removed]",
      "text/plain": [
       "<matplotlib.figure.Figure at 0x269820eed30>"
      ]
     },
     "metadata": {},
     "output_type": "display_data"
    },
    {
     "data": {
      "image/png": "[encoded data removed]",
      "text/plain": [
       "<matplotlib.figure.Figure at 0x269820c1978>"
      ]
     },
     "metadata": {},
     "output_type": "display_data"
    }
   ],
   "source": [
    "ATM.plot_count_distribution()"
   ]
  },
  {
   "cell_type": "code",
   "execution_count": 40,
   "metadata": {
    "scrolled": true
   },
   "outputs": [
    {
     "data": {
      "image/png": "[encoded data removed]",
      "text/plain": [
       "<matplotlib.figure.Figure at 0x269823e44a8>"
      ]
     },
     "metadata": {},
     "output_type": "display_data"
    }
   ],
   "source": [
    "ATM.filter_variance()\n",
    "ATM.token_cluster(n_clusters = 300)\n",
    "ATM.token_PCA()"
   ]
  },
  {
   "cell_type": "code",
   "execution_count": 41,
   "metadata": {},
   "outputs": [
    {
     "data": {
      "text/plain": [
       "array([[ 0.27322338,  0.27453399,  0.02269392, ...,  0.01432648,\n",
       "         0.01376316, -0.01663805],\n",
       "       [ 0.21312755,  0.25457254, -0.10414664, ..., -0.00936547,\n",
       "         0.00238513, -0.00718032],\n",
       "       [ 0.15519688,  0.1519959 , -0.079707  , ...,  0.00107165,\n",
       "         0.01243804,  0.00442105],\n",
       "       ...,\n",
       "       [ 0.30950403, -0.06029534, -0.05409209, ..., -0.05649224,\n",
       "        -0.02021379,  0.02219675],\n",
       "       [ 0.20892799, -0.09269462, -0.03125705, ..., -0.00897335,\n",
       "         0.00463271,  0.01247202],\n",
       "       [ 0.20823086, -0.10055526,  0.03921134, ..., -0.02491222,\n",
       "        -0.1071738 , -0.01901273]])"
      ]
     },
     "execution_count": 41,
     "metadata": {},
     "output_type": "execute_result"
    }
   ],
   "source": [
    "ATM.bow_corpus"
   ]
  },
  {
   "cell_type": "markdown",
   "metadata": {},
   "source": [
    "# Corpus translation"
   ]
  },
  {
   "cell_type": "code",
   "execution_count": 47,
   "metadata": {},
   "outputs": [
    {
     "data": {
      "text/html": [
       "<div>\n",
       "<style scoped>\n",
       "    .dataframe tbody tr th:only-of-type {\n",
       "        vertical-align: middle;\n",
       "    }\n",
       "\n",
       "    .dataframe tbody tr th {\n",
       "        vertical-align: top;\n",
       "    }\n",
       "\n",
       "    .dataframe thead th {\n",
       "        text-align: right;\n",
       "    }\n",
       "</style>\n",
       "<table border=\"1\" class=\"dataframe\">\n",
       "  <thead>\n",
       "    <tr style=\"text-align: right;\">\n",
       "      <th></th>\n",
       "      <th>class</th>\n",
       "      <th>text</th>\n",
       "    </tr>\n",
       "  </thead>\n",
       "  <tbody>\n",
       "    <tr>\n",
       "      <th>0</th>\n",
       "      <td>adventure</td>\n",
       "      <td>Dan Morgan told himself he would forget Ann Tu...</td>\n",
       "    </tr>\n",
       "    <tr>\n",
       "      <th>1</th>\n",
       "      <td>adventure</td>\n",
       "      <td>Gavin paused wearily. ``You can't stay here wi...</td>\n",
       "    </tr>\n",
       "    <tr>\n",
       "      <th>2</th>\n",
       "      <td>adventure</td>\n",
       "      <td>The sentry was not dead. He was, in fact, show...</td>\n",
       "    </tr>\n",
       "    <tr>\n",
       "      <th>3</th>\n",
       "      <td>adventure</td>\n",
       "      <td>``So it wasn't the earthquake that made him re...</td>\n",
       "    </tr>\n",
       "    <tr>\n",
       "      <th>4</th>\n",
       "      <td>adventure</td>\n",
       "      <td>She was carrying a quirt, and she started to r...</td>\n",
       "    </tr>\n",
       "  </tbody>\n",
       "</table>\n",
       "</div>"
      ],
      "text/plain": [
       "       class                                               text\n",
       "0  adventure  Dan Morgan told himself he would forget Ann Tu...\n",
       "1  adventure  Gavin paused wearily. ``You can't stay here wi...\n",
       "2  adventure  The sentry was not dead. He was, in fact, show...\n",
       "3  adventure  ``So it wasn't the earthquake that made him re...\n",
       "4  adventure  She was carrying a quirt, and she started to r..."
      ]
     },
     "execution_count": 47,
     "metadata": {},
     "output_type": "execute_result"
    }
   ],
   "source": [
    "corpus.head()"
   ]
  },
  {
   "cell_type": "code",
   "execution_count": null,
   "metadata": {},
   "outputs": [],
   "source": [
    "from textblob import TextBlob\n",
    "import langid\n",
    "import nltk\n",
    "\n",
    "class translator:\n",
    "    \n",
    "    ''' Translate texts using TextBlob'''\n",
    "    \n",
    "    def __init__(self, df, text, topic, pre_process = True):\n",
    "\n",
    "        '''\n",
    "        df: (pd.DataFrame)\n",
    "        text: name of the column containing the texts (str)\n",
    "        topic: name of the column containing the label or topic associated\n",
    "               with each text (str)\n",
    "        '''\n",
    "\n",
    "        self.data = df\n",
    "        self.corpus = df[[text]]\n",
    "        self.topic = topic\n",
    "        self.text = text\n",
    "\n",
    "        def string_pre_processing(x):\n",
    "\n",
    "            remove_tokens = list(string.punctuation) + \\\n",
    "                ['...', '..', '', '``', '-', '..', '--', '\\'\\'', '_']\n",
    "\n",
    "            x = x.lower()\n",
    "\n",
    "            x = [w for w in nltk.word_tokenize(x) if w not in remove_tokens]\n",
    "\n",
    "            # Some punctuation signs are not detected, because they stick to tokens\n",
    "            x = map(lambda y: y.replace('.',''), x)\n",
    "            x = map(lambda y: y.replace(',',''), x)\n",
    "            x = map(lambda y: y.replace('\\'',''), x)\n",
    "\n",
    "            x = MosesDetokenizer().detokenize(x,return_str=True)\n",
    "\n",
    "            return x\n",
    "        \n",
    "        if pre_process:\n",
    "            self.corpus[text] = self.corpus[text].map(string_pre_processing)\n",
    "            \n",
    "            \n",
    "        def language_detect(self, fast = True):\n",
    "            \n",
    "            ''' \n",
    "            Language identification of the texts: \n",
    "            This process is more precise when using TextBlob. If fast=True, the language\n",
    "            detection will be done using the langid module, which is faster but more imprecise\n",
    "            '''\n",
    "            \n",
    "            if fast:\n",
    "                "
   ]
  },
  {
   "cell_type": "code",
   "execution_count": null,
   "metadata": {},
   "outputs": [],
   "source": [
    "# -*- coding: utf-8 -*-\n",
    "\"\"\"\n",
    "Created on Fri Jan  5 10:46:36 2018\n",
    "\n",
    "@author: jaime.oliver\n",
    "\n",
    "Traducción de la tabla de expedientes al catalan\n",
    "\"\"\"\n",
    "# Tabla inicial con todos los expedientes\n",
    "tabla_activitat = r'C:\\Users\\jaime.oliver\\Google Drive\\Ajuntament Barcelona\\Jaume\\data\\Activitat.csv'\n",
    "# Tabla con los expedientes traducidos al catalan\n",
    "tabla_activitat_traducida = r'C:\\Users\\jaime.oliver\\Google Drive\\Ajuntament Barcelona\\Jaume\\data\\Activitat_traducida.csv'\n",
    "\n",
    "import pandas as pd\n",
    "import numpy as np\n",
    "from textblob import TextBlob\n",
    "import langid\n",
    "\n",
    "df_activitat = pd.read_csv(tabla_activitat)\n",
    "\n",
    "# Los registros sin ACORDS_EXPEDIENT o ACORDS_ACTIVITAT no se utlizarán\n",
    "def imputar_acords(x):\n",
    "    if len(str(x.ACORDS_EXPEDIENT)) > 15:\n",
    "        return x.ACORDS_EXPEDIENT\n",
    "    elif len(str(x.ACORDS_ACTIVITAT)) > 15:\n",
    "        return x.ACORDS_ACTIVITAT\n",
    "    else:\n",
    "        return np.nan\n",
    "    \n",
    "df_activitat['ACORDS_EXPEDIENT'] = df_activitat.apply(imputar_acords , axis = 1)\n",
    "\n",
    "df_activitat = df_activitat[df_activitat['ACORDS_EXPEDIENT'].notna()]\n",
    "\n",
    "#%% DETECCION DE IDIOMA\n",
    "\n",
    "''' La deteccion con TextBlob es mas precisa, pero es tambien mas lenta \n",
    "    lo que resulta en errores de conexion en la API cuando la tabla para traducir es\n",
    "    demasiado grande. En ese caso, podemos utilizar el modulo langid '''\n",
    "    \n",
    "def detect(x):\n",
    "    proceso = True\n",
    "    while proceso:\n",
    "        try:\n",
    "            lang = TextBlob(x).detect_language()\n",
    "            proceso = False\n",
    "            return lang\n",
    "        except:\n",
    "            pass\n",
    "        \n",
    "idiomas = ['es' , 'ca']\n",
    "\n",
    "langid.set_languages(idiomas)\n",
    "\n",
    "df_activitat['idioma_origen'] = df_activitat['ACORDS_EXPEDIENT'].map(lambda x: langid.classify(x)[0])\n",
    "\n",
    "#%% Traduccion de los textos en castellano al catalan\n",
    "def translate(x):\n",
    "    try:\n",
    "        return TextBlob(x).translate(to = 'ca', from_lang='es')\n",
    "    except:\n",
    "        return x\n",
    "    \n",
    "# Textos en español\n",
    "df_activitat_esp = df_activitat[df_activitat.idioma_origen == 'es']\n",
    "df_activitat_esp['txt_ca'] = df_activitat_esp['ACORDS_EXPEDIENT'].map(lambda x: translate(x))\n",
    "\n",
    "# Textos en catalan\n",
    "df_activitat_cat = df_activitat[df_activitat.idioma_origen == 'ca']\n",
    "df_activitat_cat['txt_ca'] = df_activitat_cat['ACORDS_EXPEDIENT']\n",
    "\n",
    "df_activitat_final = pd.concat([df_activitat_cat , df_activitat_esp]) \n",
    "        \n",
    "# Escritura de la tabla final traducida\n",
    "df_activitat_final.to_csv(tabla_activitat_traducida)\n"
   ]
  },
  {
   "cell_type": "code",
   "execution_count": null,
   "metadata": {},
   "outputs": [],
   "source": []
  },
  {
   "cell_type": "code",
   "execution_count": null,
   "metadata": {},
   "outputs": [],
   "source": []
  },
  {
   "cell_type": "code",
   "execution_count": 21,
   "metadata": {},
   "outputs": [],
   "source": [
    "class text_processor:\n",
    "\n",
    "    ''' Pocess a number of texts into the Bag of words representation '''\n",
    "\n",
    "    def __init__(self, df, text, topic):\n",
    "\n",
    "        '''\n",
    "        df: (pd.DataFrame)\n",
    "        text: name of the column containing the texts (str)\n",
    "        topic: name of the column containing the label or topic associated\n",
    "               with each text (str)\n",
    "        '''\n",
    "        from nltk.stem.snowball import SnowballStemmer\n",
    "        from nltk.stem import WordNetLemmatizer\n",
    "\n",
    "        self.data = df\n",
    "        self.corpus = df[[text]]\n",
    "        self.topic = topic\n",
    "        self.text = text\n",
    "        self.stopwords = stopwords\n",
    "\n",
    "    def stop_words(self, lan = 'english' , add_stopwords = [], lower = True):\n",
    "\n",
    "        '''\n",
    "        Remove a determined list of stopwords and punctuation from the texts\n",
    "        lan: language of the text. The stopwords list is taken from the nltk\n",
    "             package. Default is english. (str)\n",
    "        add_stopwords: aditional stopwords. (list)\n",
    "        lower: whether to work with low case or not. The default value is True. (bool)\n",
    "        '''\n",
    "\n",
    "        def one_text_filter_stop_words(x, lan = lan , add_stopwords = add_stopwords, lower = lower):\n",
    "\n",
    "            ''' Function to filter Stop words and punctuation '''\n",
    "            from nltk.corpus import stopwords\n",
    "            import string\n",
    "\n",
    "            stop = stopwords.words('english')+  list(string.punctuation) + \\\n",
    "                ['...', '..', '', '``', '-', '..', '--', '\\'\\'', '_'] + \\\n",
    "                add_stopwords\n",
    "\n",
    "            if lower:\n",
    "                x = x.lower()\n",
    "\n",
    "            x = [w for w in nltk.word_tokenize(x) if w not in stop]\n",
    "\n",
    "            # Some punctuation signs are not detected, because they stick to tokens\n",
    "            x = map(lambda y: y.replace('.',''), x)\n",
    "            x = map(lambda y: y.replace(',',''), x)\n",
    "            x = map(lambda y: y.replace('\\'',''), x)\n",
    "\n",
    "            x = MosesDetokenizer().detokenize(x,return_str=True)\n",
    "\n",
    "            return x\n",
    "\n",
    "        self.corpus[self.text] = self.corpus[self.text].map(one_text_filter_stop_words)\n",
    "\n",
    "    def steemer(self, lan = 'english'):\n",
    "        '''\n",
    "        Transform tokens to their root.\n",
    "        lan: language of the text. The process is done calling nltk module.\n",
    "             Default is english. (str)\n",
    "        '''\n",
    "\n",
    "        def one_text_steemer(x, lan = lan):\n",
    "\n",
    "            ''' Function to steem words fo the text '''\n",
    "\n",
    "            x =  nltk.word_tokenize(x)\n",
    "\n",
    "            x = [SnowballStemmer('english').stem(WordNetLemmatizer().lemmatize(w.lower())) for w in x]\n",
    "\n",
    "            x = MosesDetokenizer().detokenize(x,return_str=True)\n",
    "\n",
    "            return x\n",
    "\n",
    "        self.corpus[self.text] = self.corpus[self.text].map(one_text_steemer)\n",
    "\n",
    "    def corpus_to_bag_of_words(self, method = 'TfidfVectorizer', max_features = None):\n",
    "\n",
    "        '''\n",
    "        Convert the text column to a bag of words embedding\n",
    "        method: whether to use TfidfVectorizer or HashingVectorizer approach,\n",
    "                both from the sklearn module.  (str)\n",
    "        max_features: if TfidfVectorizer method is used, the 'max_features' more\n",
    "                      relevant features are selected. If set to None all the features\n",
    "                      are used, which is the setting by default. (int)\n",
    "        '''\n",
    "\n",
    "        from sklearn.feature_extraction.text import HashingVectorizer\n",
    "        from sklearn.feature_extraction.text import TfidfVectorizer\n",
    "\n",
    "        if method == 'TfidfVectorizer':\n",
    "\n",
    "            max_features = None\n",
    "\n",
    "            self.vectorizer = TfidfVectorizer(stop_words = 'english',\n",
    "                                         ngram_range = (1,1),\n",
    "                                         analyzer='word',\n",
    "                                         max_features = max_features)\n",
    "\n",
    "            self.bow_corpus = self.vectorizer.fit_transform(self.corpus[self.text])\n",
    "\n",
    "        elif method == 'HashingVectorizer':\n",
    "\n",
    "            self.vectorizer = HashingVectorizer(n_features=100, # n_features (columnas) en la tabla de salida\n",
    "                      stop_words = 'english',\n",
    "                      ngram_range = (1,2), # también bigramas y trigramas\n",
    "                      analyzer='word' # los n-gramas se forman con palabras completas\n",
    "                      )\n",
    "            self.bow_corpus = self.vectorizer.transform(corpus)\n",
    "\n",
    "        else:\n",
    "            print('No implemented method named ', method)\n",
    "\n",
    "    def filter_variance(self, threshold = 0.00001):\n",
    "\n",
    "        '''\n",
    "        Filter those tokens with a variance in the BOW matrix with less than\n",
    "        '''\n",
    "\n",
    "        from sklearn.feature_selection import VarianceThreshold\n",
    "\n",
    "        selector = VarianceThreshold(threshold=threshold)\n",
    "\n",
    "        self.bow_corpus = selector.fit_transform(self.bow_corpus.toarray())\n",
    "\n",
    "    def token_cluster(self, n_clusters = 300):\n",
    "\n",
    "        from scipy import sparse\n",
    "        from sklearn.cluster import FeatureAgglomeration\n",
    "\n",
    "        FA = FeatureAgglomeration(n_clusters = 3000)\n",
    "\n",
    "        self.bow_corpus = FA.fit_transform(self.bow_corpus)\n",
    "        self.bow_corpus = sparse.csr_matrix(self.bow_corpus)\n",
    "\n",
    "    def token_PCA(self, n_components = 120, svd_solver = 'randomized'):\n",
    "\n",
    "        from sklearn.decomposition import TruncatedSVD\n",
    "        import matplotlib.pyplot as plt\n",
    "\n",
    "        pca = TruncatedSVD(n_components =  n_components,\n",
    "                  algorithm = svd_solver)\n",
    "\n",
    "        self.bow_corpus = pca.fit_transform(self.bow_corpus)\n",
    "\n",
    "        # Plot results\n",
    "        plt.figure()\n",
    "        plt.title('explained_variance_ratio_ vs numero de variables')\n",
    "        plt.plot(pca.explained_variance_ratio_)\n",
    "        plt.show()\n",
    "\n",
    "    def plot_count_distribution(self, n_items = 30):\n",
    "\n",
    "        import matplotlib.pyplot as plt\n",
    "        import numpy as np\n",
    "\n",
    "        # Diccionario de tokens a tfidf\n",
    "        bow_v = self.vectorizer.vocabulary_\n",
    "\n",
    "        # Unique categories\n",
    "        categories = self.data[self.topic].unique()\n",
    "\n",
    "        for c in categories:\n",
    "\n",
    "            # TFIDF acumulado\n",
    "            sub_tfidf = np.array(np.sum(self.bow_corpus[np.array(y) == c],axis = 0))[0]\n",
    "            suma = sorted(sub_tfidf , reverse = True)[:n_items]\n",
    "\n",
    "            # Nombres de los tokens con más tfidf\n",
    "            indices_importancia = np.argsort(sub_tfidf)[::-1]\n",
    "\n",
    "            names =np.array(vectorizer.get_feature_names())\n",
    "            names = names[indices_importancia][:n_items]\n",
    "\n",
    "            # Figura\n",
    "            plt.figure(figsize = (15,6))\n",
    "            plt.plot(list(suma))\n",
    "            plt.xticks(range(len(names)),names, rotation='vertical')\n",
    "\n",
    "            titulo = 'Frequency distribution of '+ str(c)\n",
    "            plt.title(titulo)\n",
    "            plt.show()\n",
    "\n",
    "            "
   ]
  },
  {
   "cell_type": "code",
   "execution_count": 22,
   "metadata": {},
   "outputs": [
    {
     "name": "stderr",
     "output_type": "stream",
     "text": [
      "C:\\Users\\jaime.oliver\\AppData\\Local\\Continuum\\Anaconda3\\lib\\site-packages\\ipykernel_launcher.py:54: SettingWithCopyWarning: \n",
      "A value is trying to be set on a copy of a slice from a DataFrame.\n",
      "Try using .loc[row_indexer,col_indexer] = value instead\n",
      "\n",
      "See the caveats in the documentation: http://pandas.pydata.org/pandas-docs/stable/indexing.html#indexing-view-versus-copy\n"
     ]
    },
    {
     "ename": "NameError",
     "evalue": "name 'SnowballStemmer' is not defined",
     "output_type": "error",
     "traceback": [
      "\u001b[1;31m---------------------------------------------------------------------------\u001b[0m",
      "\u001b[1;31mNameError\u001b[0m                                 Traceback (most recent call last)",
      "\u001b[1;32m<ipython-input-22-ebc838fa5b1c>\u001b[0m in \u001b[0;36m<module>\u001b[1;34m()\u001b[0m\n\u001b[0;32m      1\u001b[0m \u001b[0mATM\u001b[0m \u001b[1;33m=\u001b[0m \u001b[0mtext_processor\u001b[0m\u001b[1;33m(\u001b[0m\u001b[0mdf\u001b[0m \u001b[1;33m=\u001b[0m \u001b[0mcorpus\u001b[0m\u001b[1;33m,\u001b[0m \u001b[0mtopic\u001b[0m \u001b[1;33m=\u001b[0m \u001b[1;34m'class'\u001b[0m\u001b[1;33m,\u001b[0m \u001b[0mtext\u001b[0m \u001b[1;33m=\u001b[0m \u001b[1;34m'text'\u001b[0m\u001b[1;33m)\u001b[0m\u001b[1;33m\u001b[0m\u001b[0m\n\u001b[0;32m      2\u001b[0m \u001b[0mATM\u001b[0m\u001b[1;33m.\u001b[0m\u001b[0mstop_words\u001b[0m\u001b[1;33m(\u001b[0m\u001b[1;33m)\u001b[0m\u001b[1;33m\u001b[0m\u001b[0m\n\u001b[1;32m----> 3\u001b[1;33m \u001b[0mATM\u001b[0m\u001b[1;33m.\u001b[0m\u001b[0msteemer\u001b[0m\u001b[1;33m(\u001b[0m\u001b[1;33m)\u001b[0m\u001b[1;33m\u001b[0m\u001b[0m\n\u001b[0m\u001b[0;32m      4\u001b[0m \u001b[0mATM\u001b[0m\u001b[1;33m.\u001b[0m\u001b[0mcorpus_to_bag_of_words\u001b[0m\u001b[1;33m(\u001b[0m\u001b[1;33m)\u001b[0m\u001b[1;33m\u001b[0m\u001b[0m\n\u001b[0;32m      5\u001b[0m \u001b[1;31m# ATM.plot_count_distribution()\u001b[0m\u001b[1;33m\u001b[0m\u001b[1;33m\u001b[0m\u001b[0m\n",
      "\u001b[1;32m<ipython-input-21-94e9a4178d2a>\u001b[0m in \u001b[0;36msteemer\u001b[1;34m(self, lan)\u001b[0m\n\u001b[0;32m     73\u001b[0m             \u001b[1;32mreturn\u001b[0m \u001b[0mx\u001b[0m\u001b[1;33m\u001b[0m\u001b[0m\n\u001b[0;32m     74\u001b[0m \u001b[1;33m\u001b[0m\u001b[0m\n\u001b[1;32m---> 75\u001b[1;33m         \u001b[0mself\u001b[0m\u001b[1;33m.\u001b[0m\u001b[0mcorpus\u001b[0m\u001b[1;33m[\u001b[0m\u001b[0mself\u001b[0m\u001b[1;33m.\u001b[0m\u001b[0mtext\u001b[0m\u001b[1;33m]\u001b[0m \u001b[1;33m=\u001b[0m \u001b[0mself\u001b[0m\u001b[1;33m.\u001b[0m\u001b[0mcorpus\u001b[0m\u001b[1;33m[\u001b[0m\u001b[0mself\u001b[0m\u001b[1;33m.\u001b[0m\u001b[0mtext\u001b[0m\u001b[1;33m]\u001b[0m\u001b[1;33m.\u001b[0m\u001b[0mmap\u001b[0m\u001b[1;33m(\u001b[0m\u001b[0mone_text_steemer\u001b[0m\u001b[1;33m)\u001b[0m\u001b[1;33m\u001b[0m\u001b[0m\n\u001b[0m\u001b[0;32m     76\u001b[0m \u001b[1;33m\u001b[0m\u001b[0m\n\u001b[0;32m     77\u001b[0m     \u001b[1;32mdef\u001b[0m \u001b[0mcorpus_to_bag_of_words\u001b[0m\u001b[1;33m(\u001b[0m\u001b[0mself\u001b[0m\u001b[1;33m,\u001b[0m \u001b[0mmethod\u001b[0m \u001b[1;33m=\u001b[0m \u001b[1;34m'TfidfVectorizer'\u001b[0m\u001b[1;33m,\u001b[0m \u001b[0mmax_features\u001b[0m \u001b[1;33m=\u001b[0m \u001b[1;32mNone\u001b[0m\u001b[1;33m)\u001b[0m\u001b[1;33m:\u001b[0m\u001b[1;33m\u001b[0m\u001b[0m\n",
      "\u001b[1;32m~\\AppData\\Local\\Continuum\\Anaconda3\\lib\\site-packages\\pandas\\core\\series.py\u001b[0m in \u001b[0;36mmap\u001b[1;34m(self, arg, na_action)\u001b[0m\n\u001b[0;32m   2352\u001b[0m         \u001b[1;32melse\u001b[0m\u001b[1;33m:\u001b[0m\u001b[1;33m\u001b[0m\u001b[0m\n\u001b[0;32m   2353\u001b[0m             \u001b[1;31m# arg is a function\u001b[0m\u001b[1;33m\u001b[0m\u001b[1;33m\u001b[0m\u001b[0m\n\u001b[1;32m-> 2354\u001b[1;33m             \u001b[0mnew_values\u001b[0m \u001b[1;33m=\u001b[0m \u001b[0mmap_f\u001b[0m\u001b[1;33m(\u001b[0m\u001b[0mvalues\u001b[0m\u001b[1;33m,\u001b[0m \u001b[0marg\u001b[0m\u001b[1;33m)\u001b[0m\u001b[1;33m\u001b[0m\u001b[0m\n\u001b[0m\u001b[0;32m   2355\u001b[0m \u001b[1;33m\u001b[0m\u001b[0m\n\u001b[0;32m   2356\u001b[0m         return self._constructor(new_values,\n",
      "\u001b[1;32mpandas/_libs/src/inference.pyx\u001b[0m in \u001b[0;36mpandas._libs.lib.map_infer\u001b[1;34m()\u001b[0m\n",
      "\u001b[1;32m<ipython-input-21-94e9a4178d2a>\u001b[0m in \u001b[0;36mone_text_steemer\u001b[1;34m(x, lan)\u001b[0m\n\u001b[0;32m     67\u001b[0m             \u001b[0mx\u001b[0m \u001b[1;33m=\u001b[0m  \u001b[0mnltk\u001b[0m\u001b[1;33m.\u001b[0m\u001b[0mword_tokenize\u001b[0m\u001b[1;33m(\u001b[0m\u001b[0mx\u001b[0m\u001b[1;33m)\u001b[0m\u001b[1;33m\u001b[0m\u001b[0m\n\u001b[0;32m     68\u001b[0m \u001b[1;33m\u001b[0m\u001b[0m\n\u001b[1;32m---> 69\u001b[1;33m             \u001b[0mx\u001b[0m \u001b[1;33m=\u001b[0m \u001b[1;33m[\u001b[0m\u001b[0mSnowballStemmer\u001b[0m\u001b[1;33m(\u001b[0m\u001b[1;34m'english'\u001b[0m\u001b[1;33m)\u001b[0m\u001b[1;33m.\u001b[0m\u001b[0mstem\u001b[0m\u001b[1;33m(\u001b[0m\u001b[0mWordNetLemmatizer\u001b[0m\u001b[1;33m(\u001b[0m\u001b[1;33m)\u001b[0m\u001b[1;33m.\u001b[0m\u001b[0mlemmatize\u001b[0m\u001b[1;33m(\u001b[0m\u001b[0mw\u001b[0m\u001b[1;33m.\u001b[0m\u001b[0mlower\u001b[0m\u001b[1;33m(\u001b[0m\u001b[1;33m)\u001b[0m\u001b[1;33m)\u001b[0m\u001b[1;33m)\u001b[0m \u001b[1;32mfor\u001b[0m \u001b[0mw\u001b[0m \u001b[1;32min\u001b[0m \u001b[0mx\u001b[0m\u001b[1;33m]\u001b[0m\u001b[1;33m\u001b[0m\u001b[0m\n\u001b[0m\u001b[0;32m     70\u001b[0m \u001b[1;33m\u001b[0m\u001b[0m\n\u001b[0;32m     71\u001b[0m             \u001b[0mx\u001b[0m \u001b[1;33m=\u001b[0m \u001b[0mMosesDetokenizer\u001b[0m\u001b[1;33m(\u001b[0m\u001b[1;33m)\u001b[0m\u001b[1;33m.\u001b[0m\u001b[0mdetokenize\u001b[0m\u001b[1;33m(\u001b[0m\u001b[0mx\u001b[0m\u001b[1;33m,\u001b[0m\u001b[0mreturn_str\u001b[0m\u001b[1;33m=\u001b[0m\u001b[1;32mTrue\u001b[0m\u001b[1;33m)\u001b[0m\u001b[1;33m\u001b[0m\u001b[0m\n",
      "\u001b[1;32m<ipython-input-21-94e9a4178d2a>\u001b[0m in \u001b[0;36m<listcomp>\u001b[1;34m(.0)\u001b[0m\n\u001b[0;32m     67\u001b[0m             \u001b[0mx\u001b[0m \u001b[1;33m=\u001b[0m  \u001b[0mnltk\u001b[0m\u001b[1;33m.\u001b[0m\u001b[0mword_tokenize\u001b[0m\u001b[1;33m(\u001b[0m\u001b[0mx\u001b[0m\u001b[1;33m)\u001b[0m\u001b[1;33m\u001b[0m\u001b[0m\n\u001b[0;32m     68\u001b[0m \u001b[1;33m\u001b[0m\u001b[0m\n\u001b[1;32m---> 69\u001b[1;33m             \u001b[0mx\u001b[0m \u001b[1;33m=\u001b[0m \u001b[1;33m[\u001b[0m\u001b[0mSnowballStemmer\u001b[0m\u001b[1;33m(\u001b[0m\u001b[1;34m'english'\u001b[0m\u001b[1;33m)\u001b[0m\u001b[1;33m.\u001b[0m\u001b[0mstem\u001b[0m\u001b[1;33m(\u001b[0m\u001b[0mWordNetLemmatizer\u001b[0m\u001b[1;33m(\u001b[0m\u001b[1;33m)\u001b[0m\u001b[1;33m.\u001b[0m\u001b[0mlemmatize\u001b[0m\u001b[1;33m(\u001b[0m\u001b[0mw\u001b[0m\u001b[1;33m.\u001b[0m\u001b[0mlower\u001b[0m\u001b[1;33m(\u001b[0m\u001b[1;33m)\u001b[0m\u001b[1;33m)\u001b[0m\u001b[1;33m)\u001b[0m \u001b[1;32mfor\u001b[0m \u001b[0mw\u001b[0m \u001b[1;32min\u001b[0m \u001b[0mx\u001b[0m\u001b[1;33m]\u001b[0m\u001b[1;33m\u001b[0m\u001b[0m\n\u001b[0m\u001b[0;32m     70\u001b[0m \u001b[1;33m\u001b[0m\u001b[0m\n\u001b[0;32m     71\u001b[0m             \u001b[0mx\u001b[0m \u001b[1;33m=\u001b[0m \u001b[0mMosesDetokenizer\u001b[0m\u001b[1;33m(\u001b[0m\u001b[1;33m)\u001b[0m\u001b[1;33m.\u001b[0m\u001b[0mdetokenize\u001b[0m\u001b[1;33m(\u001b[0m\u001b[0mx\u001b[0m\u001b[1;33m,\u001b[0m\u001b[0mreturn_str\u001b[0m\u001b[1;33m=\u001b[0m\u001b[1;32mTrue\u001b[0m\u001b[1;33m)\u001b[0m\u001b[1;33m\u001b[0m\u001b[0m\n",
      "\u001b[1;31mNameError\u001b[0m: name 'SnowballStemmer' is not defined"
     ]
    }
   ],
   "source": [
    "ATM = text_processor(df = corpus, topic = 'class', text = 'text')\n",
    "ATM.stop_words()\n",
    "ATM.steemer()\n",
    "ATM.corpus_to_bag_of_words()\n",
    "# ATM.plot_count_distribution()\n",
    "ATM.filter_variance()\n",
    "ATM.token_cluster(n_clusters = 300)\n",
    "ATM.token_PCA()"
   ]
  }
 ],
 "metadata": {
  "kernelspec": {
   "display_name": "Python 3",
   "language": "python",
   "name": "python3"
  },
  "language_info": {
   "codemirror_mode": {
    "name": "ipython",
    "version": 3
   },
   "file_extension": ".py",
   "mimetype": "text/x-python",
   "name": "python",
   "nbconvert_exporter": "python",
   "pygments_lexer": "ipython3",
   "version": "3.5.4"
  },
  "toc": {
   "nav_menu": {},
   "number_sections": true,
   "sideBar": true,
   "skip_h1_title": false,
   "toc_cell": false,
   "toc_position": {},
   "toc_section_display": "block",
   "toc_window_display": false
  }
 },
 "nbformat": 4,
 "nbformat_minor": 2
}
